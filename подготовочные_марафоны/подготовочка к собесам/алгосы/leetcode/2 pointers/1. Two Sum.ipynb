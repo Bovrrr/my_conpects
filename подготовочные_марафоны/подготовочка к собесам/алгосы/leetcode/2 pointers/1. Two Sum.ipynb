{
 "cells": [
  {
   "cell_type": "markdown",
   "metadata": {},
   "source": [
    "[1. Two Sum](https://leetcode.com/problems/two-sum/)\n",
    "\n",
    "https://www.youtube.com/watch?v=aRE7Nxb3Qfs"
   ]
  },
  {
   "cell_type": "code",
   "execution_count": 4,
   "metadata": {},
   "outputs": [],
   "source": [
    "from typing import Dict, Iterable, List, Optional, Set, Union"
   ]
  },
  {
   "cell_type": "code",
   "execution_count": 5,
   "metadata": {},
   "outputs": [],
   "source": [
    "class Solution:\n",
    "    def twoSum(self, nums: List[int], target: int) -> List[int]:\n",
    "        num2idx = {}\n",
    "        for i, el in enumerate(nums):\n",
    "            if target - el in num2idx:\n",
    "                return [num2idx[target - el], i]\n",
    "            num2idx[el] = i"
   ]
  },
  {
   "cell_type": "code",
   "execution_count": 8,
   "metadata": {},
   "outputs": [],
   "source": [
    "def test_1():\n",
    "    nums = [2, 7, 11, 15]\n",
    "    target = 9\n",
    "    sol = Solution()\n",
    "    result = sol.twoSum(nums, target)\n",
    "    assert result == [0, 1]\n",
    "\n",
    "\n",
    "def test_2():\n",
    "    nums = [3, 2, 4]\n",
    "    target = 6\n",
    "    sol = Solution()\n",
    "    result = sol.twoSum(nums, target)\n",
    "    assert result == [1, 2]\n",
    "\n",
    "\n",
    "def test_3():\n",
    "    nums = [3, 3]\n",
    "    target = 6\n",
    "    sol = Solution()\n",
    "    result = sol.twoSum(nums, target)\n",
    "    assert result == [0, 1]"
   ]
  },
  {
   "cell_type": "code",
   "execution_count": 9,
   "metadata": {},
   "outputs": [
    {
     "data": {
      "text/plain": [
       "(None, None, None)"
      ]
     },
     "execution_count": 9,
     "metadata": {},
     "output_type": "execute_result"
    }
   ],
   "source": [
    "test_1(), test_2(), test_3()"
   ]
  }
 ],
 "metadata": {
  "kernelspec": {
   "display_name": "Python 3",
   "language": "python",
   "name": "python3"
  },
  "language_info": {
   "codemirror_mode": {
    "name": "ipython",
    "version": 3
   },
   "file_extension": ".py",
   "mimetype": "text/x-python",
   "name": "python",
   "nbconvert_exporter": "python",
   "pygments_lexer": "ipython3",
   "version": "3.9.6"
  }
 },
 "nbformat": 4,
 "nbformat_minor": 2
}
