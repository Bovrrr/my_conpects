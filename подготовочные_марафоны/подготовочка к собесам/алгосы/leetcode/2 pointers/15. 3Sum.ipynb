{
 "cells": [
  {
   "cell_type": "markdown",
   "metadata": {},
   "source": [
    "[15. 3Sum](https://leetcode.com/problems/3sum/description/)\n",
    "\n",
    "https://www.youtube.com/watch?v=8IjCNFIo8YI"
   ]
  },
  {
   "cell_type": "code",
   "execution_count": null,
   "metadata": {},
   "outputs": [],
   "source": [
    "from typing import List\n",
    "\n",
    "\n",
    "class Solution:\n",
    "    def threeSum(self, nums: List[int]) -> List[List[int]]:\n",
    "        num2idx = dict()\n",
    "        pre_result = set()\n",
    "        for i, elem in enumerate(nums):\n",
    "            num2idx[elem] = i\n",
    "\n",
    "        for i in range(len(nums)):\n",
    "            for j in range(i + 1, len(nums)):\n",
    "                need_elem = -(nums[i] + nums[j])\n",
    "                if need_elem in num2idx and num2idx[need_elem] not in [i, j]:\n",
    "                    pre_result.add(tuple(sorted([nums[i], nums[j], need_elem])))\n",
    "\n",
    "        return [list(elem) for elem in pre_result]"
   ]
  }
 ],
 "metadata": {
  "language_info": {
   "name": "python"
  }
 },
 "nbformat": 4,
 "nbformat_minor": 2
}
