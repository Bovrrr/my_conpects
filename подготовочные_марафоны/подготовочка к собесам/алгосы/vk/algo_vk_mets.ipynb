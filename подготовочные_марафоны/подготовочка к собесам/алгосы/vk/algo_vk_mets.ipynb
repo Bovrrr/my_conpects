{
 "cells": [
  {
   "cell_type": "markdown",
   "metadata": {},
   "source": [
    "# условие задачи\n",
    "Пусть необходимо создать последовательности с различной суммой элементов так, чтобы:\n",
    "1. было a последовательностей, каждый элемент которых — 2;\n",
    "2. было b последовательностей, каждый элемент которых — 3.\n",
    "\n",
    "Если необходимо минимизировать сумму последовательности с наибольшей суммой элементов, \n",
    "то какой она будет?\n",
    "\n",
    "Входные данные:\n",
    "Числа a и b.\n",
    "\n",
    "Выходные данные:\n",
    "Минимальная сумма элементов последовательности с наибольшей суммой\n",
    "\n",
    "Пример:\n",
    "Если минимизировать наибольшую сумму последовательностей при a = 2, b = 1, \n",
    "то будет 3 последовательности: [2], [3] и [2, 2], а ответом будет наибольшая сумма, т.е. 4\n"
   ]
  },
  {
   "cell_type": "markdown",
   "metadata": {},
   "source": [
    "**Собственный пример**\n",
    "a = 4\n",
    "b = 3\n",
    "[2], [2, 2], [2, 2, 2, 2], [2, 2, 2, 2, 2]\n",
    "[3], [3, 3], [3, 3, 3]\n",
    "\n",
    "\n",
    "2, 22, 2222, 22222\n",
    "3, 333, 33333\n",
    "\n",
    "### записи попыток рассуждения\n",
    "\n",
    "int(10 / 2) = 5\n",
    "int(10 / 3) = 3\n",
    "int(10 / 6) = 1\n",
    "\n",
    "int(9 / 2) = 4\n",
    "int(9 / 3) = 3\n",
    "int(10 / 6) = 1\n",
    "\n",
    "i - кол-во выборов в пользу 2\n",
    "(int(10 / 6) - i) - кол-во выборов в пользу 3\n",
    "\n",
    "(b + int(10 / 6) * 3 = сумма самого правого массива из 3-ек\n",
    "и мы можем перебрать \n",
    "\n",
    "\n",
    "(a + i) * 2 = сумма правого по 2-кам\n",
    "(b + int(10 / 6) - i) * 3 = сумма правого по 3-кам\n",
    "можем пойти циклом по i в range(1, int(10 / 6) + 1)\n",
    "и сравнивать\n",
    "\n",
    "\n",
    "min(a * 2, b * 3) - минимум\n"
   ]
  },
  {
   "cell_type": "markdown",
   "metadata": {},
   "source": []
  },
  {
   "cell_type": "code",
   "execution_count": 20,
   "metadata": {},
   "outputs": [],
   "source": [
    "def get_min(a: int, b: int) -> int:\n",
    "    return min(a * 2, b * 3)\n",
    "\n",
    "\n",
    "def get_max(a: int, b: int) -> int:\n",
    "    k = (a + b) // 2  # 3 // 6\n",
    "    return max(\n",
    "        (b + k) * 3,\n",
    "        (a + k) * 2,\n",
    "    )\n",
    "\n",
    "\n",
    "def get_answer(a: int, b: int, x: int) -> int:\n",
    "    # k = x // 6\n",
    "    k = min(a // 3, b // 2)\n",
    "\n",
    "    for i in range(1, k + 1):\n",
    "        a_sum = (a + i) * 2\n",
    "        b_sum = (b + k - i) * 3\n",
    "        max_sum = max(a_sum, b_sum)\n",
    "        if max_sum <= x:\n",
    "            return 1\n",
    "\n",
    "    return 0\n",
    "\n",
    "\n",
    "def solve(a: int, b: int) -> int:\n",
    "    # случаи без коллизий сумм массивов\n",
    "    if a <= 3 or b <= 2:\n",
    "        return max(a * 2, b * 3)\n",
    "\n",
    "    # (, ] - границы\n",
    "    # (0, 0, 0, 0, 1, 1, 1, 1]\n",
    "\n",
    "    left = get_min(a, b)\n",
    "    right = get_max(a, b)\n",
    "    mid = (left + right) // 2\n",
    "\n",
    "    # линейный поиск\n",
    "    # for x in range(left, right + 1):\n",
    "    #     if get_answer(a, b, x) == 1:\n",
    "    #         return x\n",
    "\n",
    "    # return -1\n",
    "\n",
    "    # бин поиск лавер баунда 1 по ответу\n",
    "    while left < right:\n",
    "        if get_answer(a, b, mid) == 0:\n",
    "            left = mid + 1\n",
    "\n",
    "        if get_answer(a, b, mid) == 1:\n",
    "            right = mid\n",
    "\n",
    "        mid = (left + right) // 2\n",
    "\n",
    "    return right"
   ]
  },
  {
   "cell_type": "code",
   "execution_count": 21,
   "metadata": {},
   "outputs": [
    {
     "data": {
      "text/plain": [
       "(4, 10, 12)"
      ]
     },
     "execution_count": 21,
     "metadata": {},
     "output_type": "execute_result"
    }
   ],
   "source": [
    "solve(a=2, b=1), solve(a=4, b=3), solve(a=3, b=4)"
   ]
  },
  {
   "cell_type": "code",
   "execution_count": null,
   "metadata": {},
   "outputs": [],
   "source": []
  },
  {
   "cell_type": "code",
   "execution_count": null,
   "metadata": {},
   "outputs": [],
   "source": []
  }
 ],
 "metadata": {
  "kernelspec": {
   "display_name": "Python 3",
   "language": "python",
   "name": "python3"
  },
  "language_info": {
   "codemirror_mode": {
    "name": "ipython",
    "version": 3
   },
   "file_extension": ".py",
   "mimetype": "text/x-python",
   "name": "python",
   "nbconvert_exporter": "python",
   "pygments_lexer": "ipython3",
   "version": "3.9.6"
  }
 },
 "nbformat": 4,
 "nbformat_minor": 2
}
